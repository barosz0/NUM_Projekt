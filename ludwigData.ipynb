{
 "cells": [
  {
   "cell_type": "code",
   "execution_count": 25,
   "metadata": {},
   "outputs": [],
   "source": [
    "import pandas as pd\n",
    "import numpy as np\n",
    "\n",
    "data = pd.read_csv(\"archive/anime.csv\")"
   ]
  },
  {
   "cell_type": "code",
   "execution_count": 26,
   "metadata": {},
   "outputs": [],
   "source": [
    "data_after = data\n",
    "data_after = data_after.drop([\"scored_by\", 'members','created_at', 'updated_at','background', 'main_picture','url', 'trailer_url', 'title_japanese'], axis=1)\n",
    "selected_rows = data_after\n",
    "selected_rows = selected_rows.loc[data_after['status'] == 'finished_airing']\n",
    "selected_rows = selected_rows.loc[data_after['approved'] == True]\n"
   ]
  },
  {
   "cell_type": "code",
   "execution_count": 27,
   "metadata": {},
   "outputs": [],
   "source": [
    "import datetime\n",
    "from copy import deepcopy\n",
    "def convert_to_seconds(time_str:str):\n",
    "    if pd.isna(time_str):\n",
    "        return time_str\n",
    "    days = int(time_str.split(\" \")[0])\n",
    "    time_str = time_str[-8:]\n",
    "\n",
    "\n",
    "    time_obj = datetime.datetime.strptime(time_str, r'%H:%M:%S')\n",
    "    seconds = time_obj.hour * 3600 + time_obj.minute * 60 + time_obj.second\n",
    "    seconds += days*24*60*60\n",
    "    return seconds\n",
    "\n",
    "def count_characters(text:str):\n",
    "    if pd.isna(text):\n",
    "        return 0\n",
    "    return len(text)\n",
    "\n",
    "def is_not_nan(field):\n",
    "    return pd.isna(field)"
   ]
  },
  {
   "cell_type": "code",
   "execution_count": 28,
   "metadata": {},
   "outputs": [],
   "source": [
    "converted_data =  deepcopy(selected_rows)\n",
    "converted_data['episode_duration'] = converted_data['episode_duration'].apply(convert_to_seconds)\n",
    "converted_data['total_duration'] = converted_data['total_duration'].apply(convert_to_seconds)\n",
    "\n",
    "converted_data['synopsis_char_count'] = converted_data['synopsis'].apply(count_characters)\n",
    "converted_data['title_char_count'] = converted_data['title'].apply(count_characters)\n",
    "converted_data['start_date_day_of_year'] = pd.to_datetime(converted_data['start_date']).dt.dayofyear\n",
    "converted_data['end_date_day_of_year'] = pd.to_datetime(converted_data['end_date']).dt.dayofyear\n",
    "converted_data['broadcast_time'] = pd.to_timedelta(converted_data['broadcast_time']).dt.total_seconds() // 60\n"
   ]
  },
  {
   "cell_type": "code",
   "execution_count": null,
   "metadata": {},
   "outputs": [],
   "source": []
  },
  {
   "cell_type": "code",
   "execution_count": 29,
   "metadata": {},
   "outputs": [],
   "source": [
    "import ast\n",
    "genres = converted_data['genres'].dropna()\n",
    "genres = genres.apply(ast.literal_eval).explode().unique()\n",
    "genres = list(genres)\n",
    "genres.remove(np.nan)\n",
    "\n",
    "def create_genres_vector(row):\n",
    "    vector = [1 if word in row else 0 for word in genres]\n",
    "    return ' '.join(map(str, vector))"
   ]
  },
  {
   "cell_type": "code",
   "execution_count": 30,
   "metadata": {},
   "outputs": [],
   "source": [
    "themes = converted_data['themes'].dropna()\n",
    "themes = themes.apply(ast.literal_eval).explode().unique()\n",
    "themes = list(themes)\n",
    "themes.remove(np.nan)\n",
    "\n",
    "def create_themes_vector(row):\n",
    "    vector = [1 if word in row else 0 for word in themes]\n",
    "    return ' '.join(map(str, vector))"
   ]
  },
  {
   "cell_type": "code",
   "execution_count": null,
   "metadata": {},
   "outputs": [],
   "source": [
    "demographics = converted_data['demographics'].dropna()\n",
    "demographics = demographics.apply(ast.literal_eval).explode().unique()\n",
    "demographics = list(demographics)\n",
    "demographics.remove(np.nan)\n",
    "\n",
    "def create_demographics_vector(row):\n",
    "    vector = [1 if word in row else 0 for word in demographics]\n",
    "    return ' '.join(map(str, vector))"
   ]
  },
  {
   "cell_type": "code",
   "execution_count": 31,
   "metadata": {},
   "outputs": [],
   "source": [
    "ret = converted_data[['episodes', 'sfw', 'start_year','episode_duration','total_duration','synopsis_char_count','title_char_count','start_date_day_of_year','end_date_day_of_year','broadcast_time']]\n",
    "ret = pd.concat([ret,converted_data[['type', 'source', 'rating', 'start_season', 'broadcast_day']]], axis=1)\n",
    "\n",
    "ret = pd.concat([ret,converted_data['score']], axis=1)\n",
    "ret = pd.concat([ret,converted_data[['genres','themes','demographics']]], axis=1)\n",
    "\n",
    "ret['genres'] = ret['genres'].apply(create_genres_vector)\n",
    "ret['themes'] = ret['themes'].apply(create_themes_vector)\n",
    "ret['demographics'] = ret['demographics'].apply(create_demographics_vector)\n",
    "\n",
    "ret.to_csv(\"data/anime_data_ludwig.csv\")"
   ]
  },
  {
   "cell_type": "code",
   "execution_count": null,
   "metadata": {},
   "outputs": [],
   "source": []
  }
 ],
 "metadata": {
  "kernelspec": {
   "display_name": "Python 3",
   "language": "python",
   "name": "python3"
  },
  "language_info": {
   "codemirror_mode": {
    "name": "ipython",
    "version": 3
   },
   "file_extension": ".py",
   "mimetype": "text/x-python",
   "name": "python",
   "nbconvert_exporter": "python",
   "pygments_lexer": "ipython3",
   "version": "3.9.13"
  },
  "orig_nbformat": 4
 },
 "nbformat": 4,
 "nbformat_minor": 2
}
